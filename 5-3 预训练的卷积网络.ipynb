{
 "cells": [
  {
   "cell_type": "code",
   "execution_count": 1,
   "id": "interior-addiction",
   "metadata": {},
   "outputs": [],
   "source": [
    "import keras"
   ]
  },
  {
   "cell_type": "code",
   "execution_count": 2,
   "id": "adopted-dream",
   "metadata": {},
   "outputs": [],
   "source": [
    "from keras.applications import VGG16\n",
    "\n",
    "conv_base = VGG16(weights='imagenet',\n",
    "                  include_top=False,\n",
    "                  input_shape=(150,150,3))"
   ]
  },
  {
   "cell_type": "code",
   "execution_count": 3,
   "id": "opponent-ballot",
   "metadata": {},
   "outputs": [
    {
     "name": "stdout",
     "output_type": "stream",
     "text": [
      "Model: \"vgg16\"\n",
      "_________________________________________________________________\n",
      "Layer (type)                 Output Shape              Param #   \n",
      "=================================================================\n",
      "input_1 (InputLayer)         [(None, 150, 150, 3)]     0         \n",
      "_________________________________________________________________\n",
      "block1_conv1 (Conv2D)        (None, 150, 150, 64)      1792      \n",
      "_________________________________________________________________\n",
      "block1_conv2 (Conv2D)        (None, 150, 150, 64)      36928     \n",
      "_________________________________________________________________\n",
      "block1_pool (MaxPooling2D)   (None, 75, 75, 64)        0         \n",
      "_________________________________________________________________\n",
      "block2_conv1 (Conv2D)        (None, 75, 75, 128)       73856     \n",
      "_________________________________________________________________\n",
      "block2_conv2 (Conv2D)        (None, 75, 75, 128)       147584    \n",
      "_________________________________________________________________\n",
      "block2_pool (MaxPooling2D)   (None, 37, 37, 128)       0         \n",
      "_________________________________________________________________\n",
      "block3_conv1 (Conv2D)        (None, 37, 37, 256)       295168    \n",
      "_________________________________________________________________\n",
      "block3_conv2 (Conv2D)        (None, 37, 37, 256)       590080    \n",
      "_________________________________________________________________\n",
      "block3_conv3 (Conv2D)        (None, 37, 37, 256)       590080    \n",
      "_________________________________________________________________\n",
      "block3_pool (MaxPooling2D)   (None, 18, 18, 256)       0         \n",
      "_________________________________________________________________\n",
      "block4_conv1 (Conv2D)        (None, 18, 18, 512)       1180160   \n",
      "_________________________________________________________________\n",
      "block4_conv2 (Conv2D)        (None, 18, 18, 512)       2359808   \n",
      "_________________________________________________________________\n",
      "block4_conv3 (Conv2D)        (None, 18, 18, 512)       2359808   \n",
      "_________________________________________________________________\n",
      "block4_pool (MaxPooling2D)   (None, 9, 9, 512)         0         \n",
      "_________________________________________________________________\n",
      "block5_conv1 (Conv2D)        (None, 9, 9, 512)         2359808   \n",
      "_________________________________________________________________\n",
      "block5_conv2 (Conv2D)        (None, 9, 9, 512)         2359808   \n",
      "_________________________________________________________________\n",
      "block5_conv3 (Conv2D)        (None, 9, 9, 512)         2359808   \n",
      "_________________________________________________________________\n",
      "block5_pool (MaxPooling2D)   (None, 4, 4, 512)         0         \n",
      "=================================================================\n",
      "Total params: 14,714,688\n",
      "Trainable params: 14,714,688\n",
      "Non-trainable params: 0\n",
      "_________________________________________________________________\n"
     ]
    }
   ],
   "source": [
    "conv_base.summary()\n"
   ]
  },
  {
   "cell_type": "code",
   "execution_count": 4,
   "id": "israeli-insider",
   "metadata": {},
   "outputs": [],
   "source": [
    "import os\n",
    "import numpy as np\n",
    "from keras.preprocessing.image import ImageDataGenerator\n",
    "\n",
    "base_dir = \"C:/Users/yang/Desktop/dogs-vs-cats/small/\"\n",
    "\n",
    "train_dir = os.path.join(base_dir, 'train')\n",
    "validation_dir = os.path.join(base_dir, 'validation')\n",
    "test_dir = os.path.join(base_dir,'test')\n",
    "\n",
    "datagen = ImageDataGenerator(rescale=1./255)\n",
    "batch_size = 20\n",
    "\n",
    "def extract_features(directory, sample_count):\n",
    "    features = np.zeros(shape=(sample_count, 4, 4, 512))\n",
    "    labels = np.zeros(shape=(sample_count))\n",
    "    generator = datagen.flow_from_directory(\n",
    "        directory,\n",
    "        target_size=(150, 150),\n",
    "        batch_size=batch_size,\n",
    "        class_mode='binary')\n",
    "    \n",
    "    i = 0\n",
    "    for inputs_batch, labels_batch in generator:\n",
    "        features_batch = conv_base.predict(inputs_batch)\n",
    "        features[i*batch_size:(i+1)*batch_size] = features_batch\n",
    "        labels[i*batch_size:(i+1)*batch_size] = labels_batch\n",
    "        i+=1\n",
    "        if i * batch_size>=sample_count:\n",
    "            break\n",
    "    return features, labels"
   ]
  },
  {
   "cell_type": "code",
   "execution_count": 5,
   "id": "nominated-canada",
   "metadata": {},
   "outputs": [
    {
     "name": "stdout",
     "output_type": "stream",
     "text": [
      "Found 2000 images belonging to 2 classes.\n"
     ]
    },
    {
     "ename": "NameError",
     "evalue": "name 'conv_base' is not defined",
     "output_type": "error",
     "traceback": [
      "\u001b[1;31m---------------------------------------------------------------------------\u001b[0m",
      "\u001b[1;31mNameError\u001b[0m                                 Traceback (most recent call last)",
      "\u001b[1;32m<ipython-input-5-e489372cb3cc>\u001b[0m in \u001b[0;36m<module>\u001b[1;34m\u001b[0m\n\u001b[1;32m----> 1\u001b[1;33m \u001b[0mtrain_features\u001b[0m\u001b[1;33m,\u001b[0m \u001b[0mtrain_labels\u001b[0m \u001b[1;33m=\u001b[0m \u001b[0mextract_features\u001b[0m\u001b[1;33m(\u001b[0m\u001b[0mtrain_dir\u001b[0m\u001b[1;33m,\u001b[0m \u001b[1;36m2000\u001b[0m\u001b[1;33m)\u001b[0m\u001b[1;33m\u001b[0m\u001b[1;33m\u001b[0m\u001b[0m\n\u001b[0m\u001b[0;32m      2\u001b[0m \u001b[0mvalidation_features\u001b[0m\u001b[1;33m,\u001b[0m \u001b[0mvalidation_labels\u001b[0m \u001b[1;33m=\u001b[0m \u001b[0mextract_features\u001b[0m\u001b[1;33m(\u001b[0m\u001b[0mvalidation_dir\u001b[0m\u001b[1;33m,\u001b[0m \u001b[1;36m1000\u001b[0m\u001b[1;33m)\u001b[0m\u001b[1;33m\u001b[0m\u001b[1;33m\u001b[0m\u001b[0m\n\u001b[0;32m      3\u001b[0m \u001b[0mtest_features\u001b[0m\u001b[1;33m,\u001b[0m \u001b[0mtest_labels\u001b[0m \u001b[1;33m=\u001b[0m \u001b[0mextract_features\u001b[0m\u001b[1;33m(\u001b[0m\u001b[0mtest_dir\u001b[0m\u001b[1;33m,\u001b[0m \u001b[1;36m1000\u001b[0m\u001b[1;33m)\u001b[0m\u001b[1;33m\u001b[0m\u001b[1;33m\u001b[0m\u001b[0m\n",
      "\u001b[1;32m<ipython-input-4-8cdd3c62eea9>\u001b[0m in \u001b[0;36mextract_features\u001b[1;34m(directory, sample_count)\u001b[0m\n\u001b[0;32m     23\u001b[0m     \u001b[0mi\u001b[0m \u001b[1;33m=\u001b[0m \u001b[1;36m0\u001b[0m\u001b[1;33m\u001b[0m\u001b[1;33m\u001b[0m\u001b[0m\n\u001b[0;32m     24\u001b[0m     \u001b[1;32mfor\u001b[0m \u001b[0minputs_batch\u001b[0m\u001b[1;33m,\u001b[0m \u001b[0mlabels_batch\u001b[0m \u001b[1;32min\u001b[0m \u001b[0mgenerator\u001b[0m\u001b[1;33m:\u001b[0m\u001b[1;33m\u001b[0m\u001b[1;33m\u001b[0m\u001b[0m\n\u001b[1;32m---> 25\u001b[1;33m         \u001b[0mfeatures_batch\u001b[0m \u001b[1;33m=\u001b[0m \u001b[0mconv_base\u001b[0m\u001b[1;33m.\u001b[0m\u001b[0mpredict\u001b[0m\u001b[1;33m(\u001b[0m\u001b[0minputs_batch\u001b[0m\u001b[1;33m)\u001b[0m\u001b[1;33m\u001b[0m\u001b[1;33m\u001b[0m\u001b[0m\n\u001b[0m\u001b[0;32m     26\u001b[0m         \u001b[0mfeatures\u001b[0m\u001b[1;33m[\u001b[0m\u001b[0mi\u001b[0m\u001b[1;33m*\u001b[0m\u001b[0mbatch_size\u001b[0m\u001b[1;33m:\u001b[0m\u001b[1;33m(\u001b[0m\u001b[0mi\u001b[0m\u001b[1;33m+\u001b[0m\u001b[1;36m1\u001b[0m\u001b[1;33m)\u001b[0m\u001b[1;33m*\u001b[0m\u001b[0mbatch_size\u001b[0m\u001b[1;33m]\u001b[0m \u001b[1;33m=\u001b[0m \u001b[0mfeatures_batch\u001b[0m\u001b[1;33m\u001b[0m\u001b[1;33m\u001b[0m\u001b[0m\n\u001b[0;32m     27\u001b[0m         \u001b[0mlabels\u001b[0m\u001b[1;33m[\u001b[0m\u001b[0mi\u001b[0m\u001b[1;33m*\u001b[0m\u001b[0mbatch_size\u001b[0m\u001b[1;33m:\u001b[0m\u001b[1;33m(\u001b[0m\u001b[0mi\u001b[0m\u001b[1;33m+\u001b[0m\u001b[1;36m1\u001b[0m\u001b[1;33m)\u001b[0m\u001b[1;33m*\u001b[0m\u001b[0mbatch_size\u001b[0m\u001b[1;33m]\u001b[0m \u001b[1;33m=\u001b[0m \u001b[0mlabels_batch\u001b[0m\u001b[1;33m\u001b[0m\u001b[1;33m\u001b[0m\u001b[0m\n",
      "\u001b[1;31mNameError\u001b[0m: name 'conv_base' is not defined"
     ]
    }
   ],
   "source": [
    "train_features, train_labels = extract_features(train_dir, 2000)\n",
    "validation_features, validation_labels = extract_features(validation_dir, 1000)\n",
    "test_features, test_labels = extract_features(test_dir, 1000)\n"
   ]
  },
  {
   "cell_type": "code",
   "execution_count": 6,
   "id": "dental-institute",
   "metadata": {},
   "outputs": [],
   "source": [
    "train_features = np.reshape(train_features, (2000, 4*4*512))\n",
    "validation_features = np.reshape(validation_features, (1000, 4*4*512))\n",
    "test_features = np.reshape(test_features, (1000, 4*4*512))"
   ]
  },
  {
   "cell_type": "code",
   "execution_count": 7,
   "id": "statutory-wound",
   "metadata": {},
   "outputs": [
    {
     "name": "stdout",
     "output_type": "stream",
     "text": [
      "Epoch 1/30\n",
      "100/100 [==============================] - 1s 10ms/step - loss: 0.5871 - acc: 0.6730 - val_loss: 0.4445 - val_acc: 0.8270\n",
      "Epoch 2/30\n",
      "100/100 [==============================] - 1s 10ms/step - loss: 0.4336 - acc: 0.7995 - val_loss: 0.3635 - val_acc: 0.8630\n",
      "Epoch 3/30\n",
      "100/100 [==============================] - 1s 9ms/step - loss: 0.3694 - acc: 0.8380 - val_loss: 0.3285 - val_acc: 0.8730\n",
      "Epoch 4/30\n",
      "100/100 [==============================] - 1s 9ms/step - loss: 0.3230 - acc: 0.8605 - val_loss: 0.3050 - val_acc: 0.8840\n",
      "Epoch 5/30\n",
      "100/100 [==============================] - 1s 9ms/step - loss: 0.2949 - acc: 0.8770 - val_loss: 0.2968 - val_acc: 0.8910\n",
      "Epoch 6/30\n",
      "100/100 [==============================] - 1s 9ms/step - loss: 0.2774 - acc: 0.8850 - val_loss: 0.2803 - val_acc: 0.8920\n",
      "Epoch 7/30\n",
      "100/100 [==============================] - 1s 9ms/step - loss: 0.2548 - acc: 0.8960 - val_loss: 0.2739 - val_acc: 0.8920\n",
      "Epoch 8/30\n",
      "100/100 [==============================] - 1s 9ms/step - loss: 0.2393 - acc: 0.9085 - val_loss: 0.2740 - val_acc: 0.8790\n",
      "Epoch 9/30\n",
      "100/100 [==============================] - 1s 9ms/step - loss: 0.2258 - acc: 0.9105 - val_loss: 0.2604 - val_acc: 0.8960\n",
      "Epoch 10/30\n",
      "100/100 [==============================] - 1s 9ms/step - loss: 0.2152 - acc: 0.9165 - val_loss: 0.2587 - val_acc: 0.8970\n",
      "Epoch 11/30\n",
      "100/100 [==============================] - 1s 8ms/step - loss: 0.2051 - acc: 0.9220 - val_loss: 0.2543 - val_acc: 0.8970\n",
      "Epoch 12/30\n",
      "100/100 [==============================] - 1s 9ms/step - loss: 0.1945 - acc: 0.9245 - val_loss: 0.2482 - val_acc: 0.8970\n",
      "Epoch 13/30\n",
      "100/100 [==============================] - 1s 8ms/step - loss: 0.1840 - acc: 0.9335 - val_loss: 0.2453 - val_acc: 0.9040\n",
      "Epoch 14/30\n",
      "100/100 [==============================] - 1s 9ms/step - loss: 0.1803 - acc: 0.9350 - val_loss: 0.2434 - val_acc: 0.9020\n",
      "Epoch 15/30\n",
      "100/100 [==============================] - 1s 9ms/step - loss: 0.1680 - acc: 0.9330 - val_loss: 0.2423 - val_acc: 0.9020\n",
      "Epoch 16/30\n",
      "100/100 [==============================] - 1s 9ms/step - loss: 0.1609 - acc: 0.9425 - val_loss: 0.2496 - val_acc: 0.9010\n",
      "Epoch 17/30\n",
      "100/100 [==============================] - 1s 9ms/step - loss: 0.1641 - acc: 0.9395 - val_loss: 0.2407 - val_acc: 0.9010\n",
      "Epoch 18/30\n",
      "100/100 [==============================] - 1s 9ms/step - loss: 0.1519 - acc: 0.9455 - val_loss: 0.2399 - val_acc: 0.9040\n",
      "Epoch 19/30\n",
      "100/100 [==============================] - 1s 9ms/step - loss: 0.1361 - acc: 0.9535 - val_loss: 0.2401 - val_acc: 0.9030\n",
      "Epoch 20/30\n",
      "100/100 [==============================] - 1s 9ms/step - loss: 0.1358 - acc: 0.9560 - val_loss: 0.2392 - val_acc: 0.9030\n",
      "Epoch 21/30\n",
      "100/100 [==============================] - 1s 9ms/step - loss: 0.1355 - acc: 0.9505 - val_loss: 0.2416 - val_acc: 0.9040\n",
      "Epoch 22/30\n",
      "100/100 [==============================] - 1s 9ms/step - loss: 0.1266 - acc: 0.9560 - val_loss: 0.2463 - val_acc: 0.9010\n",
      "Epoch 23/30\n",
      "100/100 [==============================] - 1s 9ms/step - loss: 0.1246 - acc: 0.9570 - val_loss: 0.2449 - val_acc: 0.9040\n",
      "Epoch 24/30\n",
      "100/100 [==============================] - 1s 9ms/step - loss: 0.1187 - acc: 0.9600 - val_loss: 0.2424 - val_acc: 0.9020\n",
      "Epoch 25/30\n",
      "100/100 [==============================] - 1s 9ms/step - loss: 0.1165 - acc: 0.9615 - val_loss: 0.2399 - val_acc: 0.9050\n",
      "Epoch 26/30\n",
      "100/100 [==============================] - 1s 9ms/step - loss: 0.1102 - acc: 0.9645 - val_loss: 0.2398 - val_acc: 0.9040\n",
      "Epoch 27/30\n",
      "100/100 [==============================] - 1s 8ms/step - loss: 0.1072 - acc: 0.9630 - val_loss: 0.2406 - val_acc: 0.9030\n",
      "Epoch 28/30\n",
      "100/100 [==============================] - 1s 9ms/step - loss: 0.1066 - acc: 0.9660 - val_loss: 0.2475 - val_acc: 0.8990\n",
      "Epoch 29/30\n",
      "100/100 [==============================] - 1s 8ms/step - loss: 0.0949 - acc: 0.9715 - val_loss: 0.2436 - val_acc: 0.9020\n",
      "Epoch 30/30\n",
      "100/100 [==============================] - 1s 9ms/step - loss: 0.0955 - acc: 0.9685 - val_loss: 0.2496 - val_acc: 0.9010\n"
     ]
    }
   ],
   "source": [
    "from keras import models\n",
    "from keras import layers\n",
    "from keras import optimizers\n",
    "\n",
    "model = models.Sequential()\n",
    "model.add(layers.Dense(256, activation='relu', input_dim=4*4*512))\n",
    "model.add(layers.Dropout(0.5))\n",
    "model.add(layers.Dense(1, activation='sigmoid'))\n",
    "\n",
    "model.compile(optimizer=optimizers.RMSprop(lr=2e-5),\n",
    "              loss='binary_crossentropy',\n",
    "              metrics=['acc']) \n",
    "\n",
    "history = model.fit(train_features, train_labels, epochs=30, batch_size=20, validation_data=(validation_features, validation_labels))\n",
    "              \n"
   ]
  },
  {
   "cell_type": "code",
   "execution_count": 8,
   "id": "rubber-stylus",
   "metadata": {},
   "outputs": [
    {
     "data": {
      "text/plain": [
       "<Figure size 640x480 with 1 Axes>"
      ]
     },
     "metadata": {},
     "output_type": "display_data"
    }
   ],
   "source": [
    "import matplotlib.pyplot as plt\n",
    "\n",
    "acc = history.history['acc']  # 训练资料的正确性\n",
    "val_acc = history.history['val_acc']  # val 测试资料的正确性\n",
    "loss = history.history['loss']  # 训练资料的损失值\n",
    "val_loss = history.history['val_loss']  # val 测试资料的损失值\n",
    "\n",
    "epochs = range(1, len(acc) + 1)\n",
    "\n",
    "plt.plot(epochs, loss, 'bo', label=\"Training loss\")\n",
    "plt.plot(epochs, val_loss, 'b', label=\"Validation loss\")\n",
    "plt.title('Training and Validation loss')\n",
    "plt.xlabel('Epochs')\n",
    "plt.ylabel('loss')\n",
    "plt.legend()\n",
    "plt.show()"
   ]
  },
  {
   "cell_type": "code",
   "execution_count": 9,
   "id": "desirable-fundamental",
   "metadata": {},
   "outputs": [
    {
     "data": {
      "image/png": "[encoded data removed]",
      "text/plain": [
       "<Figure size 432x288 with 1 Axes>"
      ]
     },
     "metadata": {
      "needs_background": "light"
     },
     "output_type": "display_data"
    }
   ],
   "source": [
    "plt.clf()\n",
    "\n",
    "plt.plot(epochs,acc , 'bo', label=\"Training accuracy\")\n",
    "plt.plot(epochs, val_acc, 'b', label=\"Validation accuracy\")\n",
    "plt.title('Training and Validation loss')\n",
    "plt.xlabel('Epochs')\n",
    "plt.ylabel('loss')\n",
    "plt.legend()\n",
    "plt.show()\n"
   ]
  },
  {
   "cell_type": "code",
   "execution_count": 10,
   "id": "pressed-carter",
   "metadata": {},
   "outputs": [],
   "source": [
    "from keras import models\n",
    "from keras import layers\n",
    "\n",
    "model = models.Sequential()\n",
    "model.add(conv_base)\n",
    "model.add(layers.Flatten())\n",
    "model.add(layers.Dense(256, activation='relu'))\n",
    "model.add(layers.Dense(1, activation='sigmoid'))"
   ]
  },
  {
   "cell_type": "code",
   "execution_count": 11,
   "id": "canadian-viewer",
   "metadata": {},
   "outputs": [
    {
     "name": "stdout",
     "output_type": "stream",
     "text": [
      "Model: \"sequential_1\"\n",
      "_________________________________________________________________\n",
      "Layer (type)                 Output Shape              Param #   \n",
      "=================================================================\n",
      "vgg16 (Model)                (None, 4, 4, 512)         14714688  \n",
      "_________________________________________________________________\n",
      "flatten (Flatten)            (None, 8192)              0         \n",
      "_________________________________________________________________\n",
      "dense_2 (Dense)              (None, 256)               2097408   \n",
      "_________________________________________________________________\n",
      "dense_3 (Dense)              (None, 1)                 257       \n",
      "=================================================================\n",
      "Total params: 16,812,353\n",
      "Trainable params: 16,812,353\n",
      "Non-trainable params: 0\n",
      "_________________________________________________________________\n"
     ]
    }
   ],
   "source": [
    "model.summary()"
   ]
  },
  {
   "cell_type": "code",
   "execution_count": 12,
   "id": "occasional-provincial",
   "metadata": {},
   "outputs": [
    {
     "data": {
      "text/plain": [
       "30"
      ]
     },
     "execution_count": 12,
     "metadata": {},
     "output_type": "execute_result"
    }
   ],
   "source": [
    "len(model.trainable_weights)  # 估计模型参数层数"
   ]
  },
  {
   "cell_type": "code",
   "execution_count": 13,
   "id": "gorgeous-action",
   "metadata": {},
   "outputs": [],
   "source": [
    "conv_base.trainable = False"
   ]
  },
  {
   "cell_type": "code",
   "execution_count": 14,
   "id": "loved-glance",
   "metadata": {},
   "outputs": [
    {
     "name": "stdout",
     "output_type": "stream",
     "text": [
      "Model: \"sequential_1\"\n",
      "_________________________________________________________________\n",
      "Layer (type)                 Output Shape              Param #   \n",
      "=================================================================\n",
      "vgg16 (Model)                (None, 4, 4, 512)         14714688  \n",
      "_________________________________________________________________\n",
      "flatten (Flatten)            (None, 8192)              0         \n",
      "_________________________________________________________________\n",
      "dense_2 (Dense)              (None, 256)               2097408   \n",
      "_________________________________________________________________\n",
      "dense_3 (Dense)              (None, 1)                 257       \n",
      "=================================================================\n",
      "Total params: 16,812,353\n",
      "Trainable params: 2,097,665\n",
      "Non-trainable params: 14,714,688\n",
      "_________________________________________________________________\n"
     ]
    }
   ],
   "source": [
    "model.summary()"
   ]
  },
  {
   "cell_type": "code",
   "execution_count": 1,
   "id": "revised-summer",
   "metadata": {},
   "outputs": [
    {
     "ename": "NameError",
     "evalue": "name 'train_dir' is not defined",
     "output_type": "error",
     "traceback": [
      "\u001b[1;31m---------------------------------------------------------------------------\u001b[0m",
      "\u001b[1;31mNameError\u001b[0m                                 Traceback (most recent call last)",
      "\u001b[1;32m<ipython-input-1-7a7684ba552e>\u001b[0m in \u001b[0;36m<module>\u001b[1;34m\u001b[0m\n\u001b[0;32m     13\u001b[0m \u001b[1;33m\u001b[0m\u001b[0m\n\u001b[0;32m     14\u001b[0m train_generator = train_datagen.flow_from_directory(\n\u001b[1;32m---> 15\u001b[1;33m             \u001b[0mtrain_dir\u001b[0m\u001b[1;33m,\u001b[0m\u001b[1;33m\u001b[0m\u001b[1;33m\u001b[0m\u001b[0m\n\u001b[0m\u001b[0;32m     16\u001b[0m             \u001b[0mtarget_size\u001b[0m\u001b[1;33m=\u001b[0m\u001b[1;33m(\u001b[0m\u001b[1;36m150\u001b[0m\u001b[1;33m,\u001b[0m\u001b[1;36m150\u001b[0m\u001b[1;33m)\u001b[0m\u001b[1;33m,\u001b[0m\u001b[1;33m\u001b[0m\u001b[1;33m\u001b[0m\u001b[0m\n\u001b[0;32m     17\u001b[0m             \u001b[0mbatch_size\u001b[0m\u001b[1;33m=\u001b[0m\u001b[1;36m20\u001b[0m\u001b[1;33m,\u001b[0m\u001b[1;33m\u001b[0m\u001b[1;33m\u001b[0m\u001b[0m\n",
      "\u001b[1;31mNameError\u001b[0m: name 'train_dir' is not defined"
     ]
    }
   ],
   "source": [
    "from keras.preprocessing.image import ImageDataGenerator\n",
    "\n",
    "train_datagen = ImageDataGenerator(\n",
    "               rescale=1./255,\n",
    "               rotation_range=40,\n",
    "               width_shift_range=0.2,\n",
    "               height_shift_range=0.2,\n",
    "               shear_range=0.2,\n",
    "               horizontal_flip=0.2,\n",
    "               fill_mode='nearest')\n",
    "\n",
    "test_datagen = ImageDataGenerator(rescale=1./255)\n",
    "\n",
    "train_generator = train_datagen.flow_from_directory(\n",
    "            train_dir,\n",
    "            target_size=(150,150),\n",
    "            batch_size=20,\n",
    "            class_mode='binary')\n",
    "\n",
    "validation_genetator = test_datagen.flow_from_directory(\n",
    "            validation_dir,\n",
    "            target_size=(150,150),\n",
    "            batch_size = 20,\n",
    "            class_mode = 'binary')\n",
    "\n",
    "model.compile(loss='binary_crossentropy',\n",
    "              optimizer=optimizers.RMSprop(lr=2e-5),\n",
    "              metrics=['acc'])\n",
    "\n",
    "history = model.fit_generator(train_generator, \n",
    "                              steps_per_epoch=100, \n",
    "                              epochs=30,\n",
    "                              validation_data=validation_genetator,\n",
    "                              validation_steps=50,\n",
    "                              )"
   ]
  },
  {
   "cell_type": "code",
   "execution_count": null,
   "id": "confident-corner",
   "metadata": {},
   "outputs": [],
   "source": [
    "model.save(\"cats_and_dogs_small_3.h5\")"
   ]
  },
  {
   "cell_type": "code",
   "execution_count": 20,
   "id": "consistent-conditions",
   "metadata": {},
   "outputs": [
    {
     "data": {
      "text/plain": [
       "<matplotlib.legend.Legend at 0x2275466fba8>"
      ]
     },
     "execution_count": 20,
     "metadata": {},
     "output_type": "execute_result"
    },
    {
     "data": {
      "image/png": "[encoded data removed]",
      "text/plain": [
       "<Figure size 432x288 with 1 Axes>"
      ]
     },
     "metadata": {
      "needs_background": "light"
     },
     "output_type": "display_data"
    },
    {
     "data": {
      "image/png": "[encoded data removed]",
      "text/plain": [
       "<Figure size 432x288 with 1 Axes>"
      ]
     },
     "metadata": {
      "needs_background": "light"
     },
     "output_type": "display_data"
    }
   ],
   "source": [
    "import matplotlib.pyplot as plt\n",
    "\n",
    "acc = history.history['acc']\n",
    "val_acc = history.history['val_acc']\n",
    "\n",
    "loss = history.history['loss']\n",
    "val_loss = history.history['val_loss']\n",
    "\n",
    "epochs = range(1, len(acc)+1)\n",
    "\n",
    "plt.plot(epochs, acc, 'bo', label='Training acc')\n",
    "plt.plot(epochs, val_acc, 'b', label='Validation acc')\n",
    "plt.title('Training and validation accuracy')\n",
    "plt.legend()\n",
    "\n",
    "plt.figure()\n",
    "plt.plot(epochs, loss, 'bo', label='Training loss')\n",
    "plt.plot(epochs, val_loss, 'b', label='Validation loss')\n",
    "plt.title('Training and validation accuracy')\n",
    "plt.legend()\n"
   ]
  },
  {
   "cell_type": "code",
   "execution_count": 25,
   "id": "quantitative-attraction",
   "metadata": {},
   "outputs": [
    {
     "name": "stdout",
     "output_type": "stream",
     "text": [
      "Found 1000 images belonging to 2 classes.\n",
      "Epoch 1/100\n",
      "100/100 [==============================] - 51s 511ms/step - loss: 0.0235 - acc: 0.9930 - val_loss: 0.3552 - val_acc: 0.9340\n",
      "Epoch 2/100\n",
      "100/100 [==============================] - 51s 511ms/step - loss: 0.0244 - acc: 0.9910 - val_loss: 0.2930 - val_acc: 0.9400\n",
      "Epoch 3/100\n",
      "100/100 [==============================] - 51s 511ms/step - loss: 0.0278 - acc: 0.9905 - val_loss: 0.2828 - val_acc: 0.9320\n",
      "Epoch 4/100\n",
      "100/100 [==============================] - 51s 512ms/step - loss: 0.0133 - acc: 0.9950 - val_loss: 0.3092 - val_acc: 0.9390\n",
      "Epoch 5/100\n",
      "100/100 [==============================] - 51s 513ms/step - loss: 0.0213 - acc: 0.9935 - val_loss: 0.3262 - val_acc: 0.9460\n",
      "Epoch 6/100\n",
      "100/100 [==============================] - 51s 512ms/step - loss: 0.0174 - acc: 0.9935 - val_loss: 0.3273 - val_acc: 0.9340\n",
      "Epoch 7/100\n",
      "100/100 [==============================] - 51s 512ms/step - loss: 0.0160 - acc: 0.9940 - val_loss: 0.4154 - val_acc: 0.9340\n",
      "Epoch 8/100\n",
      "100/100 [==============================] - 51s 513ms/step - loss: 0.0147 - acc: 0.9960 - val_loss: 0.6913 - val_acc: 0.9090\n",
      "Epoch 9/100\n",
      "100/100 [==============================] - 51s 513ms/step - loss: 0.0172 - acc: 0.9945 - val_loss: 0.4570 - val_acc: 0.9330\n",
      "Epoch 10/100\n",
      "100/100 [==============================] - 51s 512ms/step - loss: 0.0186 - acc: 0.9930 - val_loss: 0.3477 - val_acc: 0.9450\n",
      "Epoch 11/100\n",
      "100/100 [==============================] - 51s 512ms/step - loss: 0.0158 - acc: 0.9930 - val_loss: 0.3310 - val_acc: 0.9430\n",
      "Epoch 12/100\n",
      "100/100 [==============================] - 51s 512ms/step - loss: 0.0136 - acc: 0.9945 - val_loss: 0.3421 - val_acc: 0.9390\n",
      "Epoch 13/100\n",
      "100/100 [==============================] - 51s 511ms/step - loss: 0.0156 - acc: 0.9935 - val_loss: 0.3515 - val_acc: 0.9410\n",
      "Epoch 14/100\n",
      "100/100 [==============================] - 51s 511ms/step - loss: 0.0170 - acc: 0.9925 - val_loss: 0.3263 - val_acc: 0.9430\n",
      "Epoch 15/100\n",
      "100/100 [==============================] - 51s 512ms/step - loss: 0.0176 - acc: 0.9940 - val_loss: 0.3249 - val_acc: 0.9470\n",
      "Epoch 16/100\n",
      "100/100 [==============================] - 51s 512ms/step - loss: 0.0127 - acc: 0.9945 - val_loss: 0.4132 - val_acc: 0.9280\n",
      "Epoch 17/100\n",
      "100/100 [==============================] - 51s 513ms/step - loss: 0.0123 - acc: 0.9965 - val_loss: 0.3621 - val_acc: 0.9390\n",
      "Epoch 18/100\n",
      "100/100 [==============================] - 52s 516ms/step - loss: 0.0101 - acc: 0.9970 - val_loss: 0.3692 - val_acc: 0.9400\n",
      "Epoch 19/100\n",
      "100/100 [==============================] - 51s 513ms/step - loss: 0.0079 - acc: 0.9980 - val_loss: 0.3612 - val_acc: 0.9440\n",
      "Epoch 20/100\n",
      "100/100 [==============================] - 51s 512ms/step - loss: 0.0063 - acc: 0.9975 - val_loss: 0.3491 - val_acc: 0.9400\n",
      "Epoch 21/100\n",
      "100/100 [==============================] - 51s 514ms/step - loss: 0.0137 - acc: 0.9960 - val_loss: 0.3786 - val_acc: 0.9370\n",
      "Epoch 22/100\n",
      "100/100 [==============================] - 51s 513ms/step - loss: 0.0144 - acc: 0.9975 - val_loss: 0.3705 - val_acc: 0.9360\n",
      "Epoch 23/100\n",
      "100/100 [==============================] - 51s 513ms/step - loss: 0.0104 - acc: 0.9960 - val_loss: 0.3471 - val_acc: 0.9370\n",
      "Epoch 24/100\n",
      "100/100 [==============================] - 51s 513ms/step - loss: 0.0080 - acc: 0.9970 - val_loss: 0.3228 - val_acc: 0.9430\n",
      "Epoch 25/100\n",
      "100/100 [==============================] - 51s 513ms/step - loss: 0.0045 - acc: 0.9985 - val_loss: 0.4027 - val_acc: 0.9380\n",
      "Epoch 26/100\n",
      "100/100 [==============================] - 51s 513ms/step - loss: 0.0075 - acc: 0.9965 - val_loss: 0.3410 - val_acc: 0.9440\n",
      "Epoch 27/100\n",
      "100/100 [==============================] - 51s 514ms/step - loss: 0.0158 - acc: 0.9940 - val_loss: 0.3565 - val_acc: 0.9470\n",
      "Epoch 28/100\n",
      "100/100 [==============================] - 51s 513ms/step - loss: 0.0060 - acc: 0.9980 - val_loss: 0.3382 - val_acc: 0.9500\n",
      "Epoch 29/100\n",
      "100/100 [==============================] - 51s 513ms/step - loss: 0.0109 - acc: 0.9965 - val_loss: 0.3279 - val_acc: 0.9460\n",
      "Epoch 30/100\n",
      "100/100 [==============================] - 51s 514ms/step - loss: 0.0089 - acc: 0.9980 - val_loss: 0.3621 - val_acc: 0.9350\n",
      "Epoch 31/100\n",
      "100/100 [==============================] - 51s 513ms/step - loss: 0.0059 - acc: 0.9980 - val_loss: 0.3834 - val_acc: 0.9370\n",
      "Epoch 32/100\n",
      "100/100 [==============================] - 51s 513ms/step - loss: 0.0147 - acc: 0.9950 - val_loss: 0.5535 - val_acc: 0.9220\n",
      "Epoch 33/100\n",
      "100/100 [==============================] - 51s 513ms/step - loss: 0.0076 - acc: 0.9985 - val_loss: 0.4486 - val_acc: 0.9360\n",
      "Epoch 34/100\n",
      "100/100 [==============================] - 51s 513ms/step - loss: 0.0077 - acc: 0.9980 - val_loss: 0.4284 - val_acc: 0.9370\n",
      "Epoch 35/100\n",
      "100/100 [==============================] - 51s 512ms/step - loss: 0.0055 - acc: 0.9980 - val_loss: 0.3859 - val_acc: 0.9390\n",
      "Epoch 36/100\n",
      "100/100 [==============================] - 51s 512ms/step - loss: 0.0125 - acc: 0.9950 - val_loss: 0.3778 - val_acc: 0.9360\n",
      "Epoch 37/100\n",
      "100/100 [==============================] - 51s 513ms/step - loss: 0.0116 - acc: 0.9965 - val_loss: 0.3935 - val_acc: 0.9400\n",
      "Epoch 38/100\n",
      "100/100 [==============================] - 51s 512ms/step - loss: 0.0114 - acc: 0.9955 - val_loss: 0.4434 - val_acc: 0.9320\n",
      "Epoch 39/100\n",
      "100/100 [==============================] - 50s 502ms/step - loss: 0.0056 - acc: 0.9980 - val_loss: 0.4740 - val_acc: 0.9290\n",
      "Epoch 40/100\n",
      "100/100 [==============================] - 51s 512ms/step - loss: 0.0065 - acc: 0.9970 - val_loss: 0.5930 - val_acc: 0.9230\n",
      "Epoch 41/100\n",
      "100/100 [==============================] - 51s 512ms/step - loss: 0.0067 - acc: 0.9975 - val_loss: 0.4225 - val_acc: 0.9460\n",
      "Epoch 42/100\n",
      "100/100 [==============================] - 51s 512ms/step - loss: 0.0084 - acc: 0.9975 - val_loss: 0.4619 - val_acc: 0.9410\n",
      "Epoch 43/100\n",
      "100/100 [==============================] - 51s 512ms/step - loss: 0.0146 - acc: 0.9945 - val_loss: 0.4063 - val_acc: 0.9380\n",
      "Epoch 44/100\n",
      "100/100 [==============================] - 51s 513ms/step - loss: 0.0035 - acc: 0.9985 - val_loss: 0.4349 - val_acc: 0.9380\n",
      "Epoch 45/100\n",
      "100/100 [==============================] - 51s 512ms/step - loss: 0.0075 - acc: 0.9980 - val_loss: 0.4747 - val_acc: 0.9420\n",
      "Epoch 46/100\n",
      "100/100 [==============================] - 51s 512ms/step - loss: 0.0104 - acc: 0.9955 - val_loss: 0.4848 - val_acc: 0.9360\n",
      "Epoch 47/100\n",
      "100/100 [==============================] - 51s 512ms/step - loss: 0.0147 - acc: 0.9970 - val_loss: 0.5436 - val_acc: 0.9300\n",
      "Epoch 48/100\n",
      "100/100 [==============================] - 51s 512ms/step - loss: 0.0036 - acc: 0.9985 - val_loss: 0.6341 - val_acc: 0.9250\n",
      "Epoch 49/100\n",
      "100/100 [==============================] - 51s 512ms/step - loss: 0.0078 - acc: 0.9985 - val_loss: 0.4489 - val_acc: 0.9390\n",
      "Epoch 50/100\n",
      "100/100 [==============================] - 51s 511ms/step - loss: 0.0046 - acc: 0.9980 - val_loss: 0.5211 - val_acc: 0.9330\n",
      "Epoch 51/100\n",
      "100/100 [==============================] - 51s 512ms/step - loss: 0.0154 - acc: 0.9950 - val_loss: 0.4369 - val_acc: 0.9340\n",
      "Epoch 52/100\n",
      "100/100 [==============================] - 51s 511ms/step - loss: 0.0154 - acc: 0.9955 - val_loss: 0.3999 - val_acc: 0.9390\n",
      "Epoch 53/100\n",
      "100/100 [==============================] - 51s 511ms/step - loss: 0.0072 - acc: 0.9975 - val_loss: 0.5125 - val_acc: 0.9300\n",
      "Epoch 54/100\n",
      "100/100 [==============================] - 51s 511ms/step - loss: 0.0042 - acc: 0.9995 - val_loss: 0.4412 - val_acc: 0.9400\n",
      "Epoch 55/100\n",
      "100/100 [==============================] - 51s 511ms/step - loss: 0.0041 - acc: 0.9980 - val_loss: 0.5429 - val_acc: 0.9320\n",
      "Epoch 56/100\n",
      "100/100 [==============================] - 51s 512ms/step - loss: 0.0112 - acc: 0.9965 - val_loss: 0.4118 - val_acc: 0.9410\n",
      "Epoch 57/100\n",
      "100/100 [==============================] - 51s 511ms/step - loss: 0.0131 - acc: 0.9965 - val_loss: 0.5244 - val_acc: 0.9360\n",
      "Epoch 58/100\n",
      "100/100 [==============================] - 51s 511ms/step - loss: 0.0028 - acc: 1.0000 - val_loss: 0.5137 - val_acc: 0.9310\n",
      "Epoch 59/100\n",
      "100/100 [==============================] - 51s 511ms/step - loss: 0.0053 - acc: 0.9980 - val_loss: 0.3899 - val_acc: 0.9360\n",
      "Epoch 60/100\n",
      "100/100 [==============================] - 51s 511ms/step - loss: 0.0043 - acc: 0.9995 - val_loss: 0.5980 - val_acc: 0.9280\n",
      "Epoch 61/100\n",
      "100/100 [==============================] - 51s 512ms/step - loss: 0.0124 - acc: 0.9950 - val_loss: 0.4544 - val_acc: 0.9350\n",
      "Epoch 62/100\n",
      "100/100 [==============================] - 51s 512ms/step - loss: 0.0042 - acc: 0.9985 - val_loss: 0.5522 - val_acc: 0.9330\n",
      "Epoch 63/100\n",
      "100/100 [==============================] - 51s 513ms/step - loss: 0.0095 - acc: 0.9990 - val_loss: 0.4159 - val_acc: 0.9440\n",
      "Epoch 64/100\n",
      "100/100 [==============================] - 51s 514ms/step - loss: 0.0038 - acc: 0.9985 - val_loss: 0.5056 - val_acc: 0.9400\n",
      "Epoch 65/100\n",
      "100/100 [==============================] - 51s 514ms/step - loss: 0.0026 - acc: 1.0000 - val_loss: 0.6337 - val_acc: 0.9340\n",
      "Epoch 66/100\n",
      "100/100 [==============================] - 51s 514ms/step - loss: 0.0070 - acc: 0.9970 - val_loss: 0.5083 - val_acc: 0.9350\n",
      "Epoch 67/100\n",
      "100/100 [==============================] - 52s 515ms/step - loss: 0.0075 - acc: 0.9980 - val_loss: 0.4908 - val_acc: 0.9440\n",
      "Epoch 68/100\n",
      "100/100 [==============================] - 51s 514ms/step - loss: 0.0053 - acc: 0.9985 - val_loss: 0.5594 - val_acc: 0.9370\n",
      "Epoch 69/100\n",
      "100/100 [==============================] - 51s 515ms/step - loss: 0.0087 - acc: 0.9980 - val_loss: 0.4442 - val_acc: 0.9430\n",
      "Epoch 70/100\n",
      "100/100 [==============================] - 52s 515ms/step - loss: 0.0052 - acc: 0.9980 - val_loss: 0.5129 - val_acc: 0.9410\n",
      "Epoch 71/100\n",
      "100/100 [==============================] - 51s 514ms/step - loss: 0.0069 - acc: 0.9975 - val_loss: 0.4166 - val_acc: 0.9460\n",
      "Epoch 72/100\n",
      "100/100 [==============================] - 51s 513ms/step - loss: 0.0056 - acc: 0.9985 - val_loss: 0.4409 - val_acc: 0.9470\n",
      "Epoch 73/100\n",
      "100/100 [==============================] - 51s 512ms/step - loss: 0.0051 - acc: 0.9980 - val_loss: 0.5181 - val_acc: 0.9340\n",
      "Epoch 74/100\n",
      "100/100 [==============================] - 51s 511ms/step - loss: 0.0021 - acc: 0.9995 - val_loss: 0.8502 - val_acc: 0.9180\n",
      "Epoch 75/100\n",
      "100/100 [==============================] - 51s 512ms/step - loss: 0.0093 - acc: 0.9980 - val_loss: 0.5203 - val_acc: 0.9370\n",
      "Epoch 76/100\n",
      "100/100 [==============================] - 51s 511ms/step - loss: 0.0144 - acc: 0.9960 - val_loss: 0.5462 - val_acc: 0.9330\n",
      "Epoch 77/100\n",
      "100/100 [==============================] - 51s 512ms/step - loss: 0.0049 - acc: 0.9985 - val_loss: 0.5097 - val_acc: 0.9280\n",
      "Epoch 78/100\n",
      "100/100 [==============================] - 51s 511ms/step - loss: 0.0087 - acc: 0.9975 - val_loss: 0.9815 - val_acc: 0.9090\n",
      "Epoch 79/100\n",
      "100/100 [==============================] - 51s 511ms/step - loss: 0.0031 - acc: 0.9990 - val_loss: 0.4794 - val_acc: 0.9420\n",
      "Epoch 80/100\n",
      "100/100 [==============================] - 51s 512ms/step - loss: 0.0060 - acc: 0.9985 - val_loss: 0.5020 - val_acc: 0.9400\n",
      "Epoch 81/100\n",
      "100/100 [==============================] - 51s 512ms/step - loss: 0.0079 - acc: 0.9970 - val_loss: 0.5098 - val_acc: 0.9340\n",
      "Epoch 82/100\n",
      "100/100 [==============================] - 51s 514ms/step - loss: 0.0110 - acc: 0.9960 - val_loss: 0.5281 - val_acc: 0.9340\n",
      "Epoch 83/100\n",
      "100/100 [==============================] - 51s 514ms/step - loss: 0.0019 - acc: 1.0000 - val_loss: 0.4990 - val_acc: 0.9380\n",
      "Epoch 84/100\n",
      "100/100 [==============================] - 52s 519ms/step - loss: 0.0021 - acc: 0.9990 - val_loss: 0.5694 - val_acc: 0.9360\n",
      "Epoch 85/100\n",
      "100/100 [==============================] - 52s 519ms/step - loss: 0.0162 - acc: 0.9960 - val_loss: 0.4541 - val_acc: 0.9390\n",
      "Epoch 86/100\n",
      "100/100 [==============================] - 51s 515ms/step - loss: 0.0042 - acc: 0.9980 - val_loss: 0.5698 - val_acc: 0.9370\n",
      "Epoch 87/100\n",
      "100/100 [==============================] - 52s 515ms/step - loss: 0.0054 - acc: 0.9975 - val_loss: 0.5242 - val_acc: 0.9400\n",
      "Epoch 88/100\n",
      "100/100 [==============================] - 51s 515ms/step - loss: 0.0079 - acc: 0.9980 - val_loss: 0.5726 - val_acc: 0.9330\n",
      "Epoch 89/100\n",
      "100/100 [==============================] - 51s 514ms/step - loss: 0.0060 - acc: 0.9980 - val_loss: 0.4910 - val_acc: 0.9390\n",
      "Epoch 90/100\n",
      "100/100 [==============================] - 51s 514ms/step - loss: 0.0066 - acc: 0.9985 - val_loss: 0.5297 - val_acc: 0.9390\n",
      "Epoch 91/100\n",
      "100/100 [==============================] - 51s 515ms/step - loss: 0.0060 - acc: 0.9980 - val_loss: 0.4988 - val_acc: 0.9460\n",
      "Epoch 92/100\n",
      "100/100 [==============================] - 51s 514ms/step - loss: 0.0045 - acc: 0.9985 - val_loss: 0.7860 - val_acc: 0.9260\n",
      "Epoch 93/100\n",
      "100/100 [==============================] - 51s 514ms/step - loss: 0.0048 - acc: 0.9980 - val_loss: 0.5621 - val_acc: 0.9380\n",
      "Epoch 94/100\n",
      "100/100 [==============================] - 51s 514ms/step - loss: 0.0021 - acc: 0.9990 - val_loss: 0.5538 - val_acc: 0.9340\n",
      "Epoch 95/100\n",
      "100/100 [==============================] - 51s 514ms/step - loss: 0.0064 - acc: 0.9970 - val_loss: 0.4962 - val_acc: 0.9380\n",
      "Epoch 96/100\n",
      "100/100 [==============================] - 51s 514ms/step - loss: 7.1603e-04 - acc: 1.0000 - val_loss: 0.5278 - val_acc: 0.9380\n",
      "Epoch 97/100\n",
      "100/100 [==============================] - 51s 514ms/step - loss: 0.0020 - acc: 0.9995 - val_loss: 0.6522 - val_acc: 0.9310\n",
      "Epoch 98/100\n",
      "100/100 [==============================] - 51s 514ms/step - loss: 0.0132 - acc: 0.9960 - val_loss: 0.5423 - val_acc: 0.9400\n",
      "Epoch 99/100\n",
      "100/100 [==============================] - 51s 514ms/step - loss: 0.0059 - acc: 0.9975 - val_loss: 0.5721 - val_acc: 0.9350\n",
      "Epoch 100/100\n",
      "100/100 [==============================] - 51s 514ms/step - loss: 0.0057 - acc: 0.9980 - val_loss: 0.5310 - val_acc: 0.9380\n"
     ]
    }
   ],
   "source": [
    "conv_base.trainable=True\n",
    "\n",
    "\n",
    "set_trainable=False\n",
    "for layer in conv_base.layers:\n",
    "    if layer.name=='block5_conv1':\n",
    "        set_trainable=True\n",
    "    if set_trainable:\n",
    "        layer.trainable=True\n",
    "    else:\n",
    "        layer.trainable=False\n",
    "        \n",
    "test_datagen = ImageDataGenerator(rescale=1./255)\n",
    "        \n",
    "validation_genetator = test_datagen.flow_from_directory(\n",
    "            test_dir,\n",
    "            target_size=(150,150),\n",
    "            batch_size = 20,\n",
    "            class_mode = 'binary')\n",
    "        \n",
    "model.compile(loss='binary_crossentropy',\n",
    "                      optimizer=optimizers.RMSprop(lr=1e-5),\n",
    "                      metrics=['acc'])\n",
    "\n",
    "\n",
    "history=model.fit_generator(\n",
    "      train_generator,\n",
    "      steps_per_epoch=100,\n",
    "      epochs=100,\n",
    "      validation_data=validation_genetator,\n",
    "      validation_steps=50)"
   ]
  },
  {
   "cell_type": "code",
   "execution_count": 26,
   "id": "similar-avenue",
   "metadata": {},
   "outputs": [
    {
     "data": {
      "text/plain": [
       "<matplotlib.legend.Legend at 0x22752ca3ba8>"
      ]
     },
     "execution_count": 26,
     "metadata": {},
     "output_type": "execute_result"
    },
    {
     "data": {
      "image/png": "[encoded data removed]",
      "text/plain": [
       "<Figure size 432x288 with 1 Axes>"
      ]
     },
     "metadata": {
      "needs_background": "light"
     },
     "output_type": "display_data"
    },
    {
     "data": {
      "image/png": "[encoded data removed]",
      "text/plain": [
       "<Figure size 432x288 with 1 Axes>"
      ]
     },
     "metadata": {
      "needs_background": "light"
     },
     "output_type": "display_data"
    }
   ],
   "source": [
    "import matplotlib.pyplot as plt\n",
    "\n",
    "acc = history.history['acc']\n",
    "val_acc = history.history['val_acc']\n",
    "\n",
    "loss = history.history['loss']\n",
    "val_loss = history.history['val_loss']\n",
    "\n",
    "epochs = range(1, len(acc)+1)\n",
    "\n",
    "plt.plot(epochs, acc, 'bo', label='Training acc')\n",
    "plt.plot(epochs, val_acc, 'b', label='Validation acc')\n",
    "plt.title('Training and validation accuracy')\n",
    "plt.legend()\n",
    "\n",
    "plt.figure()\n",
    "plt.plot(epochs, loss, 'bo', label='Training loss')\n",
    "plt.plot(epochs, val_loss, 'b', label='Validation loss')\n",
    "plt.title('Training and validation accuracy')\n",
    "plt.legend()"
   ]
  },
  {
   "cell_type": "code",
   "execution_count": null,
   "id": "daily-kansas",
   "metadata": {},
   "outputs": [],
   "source": []
  }
 ],
 "metadata": {
  "kernelspec": {
   "display_name": "Python 3",
   "language": "python",
   "name": "python3"
  },
  "language_info": {
   "codemirror_mode": {
    "name": "ipython",
    "version": 3
   },
   "file_extension": ".py",
   "mimetype": "text/x-python",
   "name": "python",
   "nbconvert_exporter": "python",
   "pygments_lexer": "ipython3",
   "version": "3.6.12"
  },
  "toc": {
   "base_numbering": 1,
   "nav_menu": {},
   "number_sections": true,
   "sideBar": true,
   "skip_h1_title": false,
   "title_cell": "Table of Contents",
   "title_sidebar": "Contents",
   "toc_cell": false,
   "toc_position": {},
   "toc_section_display": true,
   "toc_window_display": false
  }
 },
 "nbformat": 4,
 "nbformat_minor": 5
}
