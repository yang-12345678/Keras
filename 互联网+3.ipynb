{
 "cells": [
  {
   "cell_type": "code",
   "execution_count": 16,
   "id": "honest-circus",
   "metadata": {},
   "outputs": [],
   "source": [
    "import keras\n",
    "\n",
    "from keras.applications import VGG16\n",
    "\n",
    "conv_base = VGG16(weights='imagenet',\n",
    "                  include_top=False,\n",
    "                  input_shape=(150,150,3))"
   ]
  },
  {
   "cell_type": "code",
   "execution_count": 17,
   "id": "induced-advocate",
   "metadata": {},
   "outputs": [],
   "source": [
    "import os\n",
    "import numpy as np\n",
    "from keras.preprocessing.image import ImageDataGenerator\n",
    "\n",
    "base_dir = \"C:/Users/yang/Desktop/nongzuowu/small/\"\n",
    "\n",
    "train_dir = os.path.join(base_dir, 'train')\n",
    "validation_dir = os.path.join(base_dir, 'validation')\n",
    "test_dir = os.path.join(base_dir,'test')\n",
    "\n",
    "datagen = ImageDataGenerator(rescale=1./255)\n",
    "batch_size = 20\n",
    "\n",
    "def extract_features(directory, sample_count):\n",
    "    features = np.zeros(shape=(sample_count, 4, 4, 512))\n",
    "    labels = np.zeros(shape=(sample_count))\n",
    "    generator = datagen.flow_from_directory(\n",
    "        directory,\n",
    "        target_size=(150, 150),\n",
    "        batch_size=batch_size,\n",
    "        class_mode='binary')\n",
    "    \n",
    "    i = 0\n",
    "    for inputs_batch, labels_batch in generator:\n",
    "        features_batch = conv_base.predict(inputs_batch)\n",
    "        features[i*batch_size:(i+1)*batch_size] = features_batch\n",
    "        labels[i*batch_size:(i+1)*batch_size] = labels_batch\n",
    "        i+=1\n",
    "        if i * batch_size>=sample_count:\n",
    "            break\n",
    "    return features, labels"
   ]
  },
  {
   "cell_type": "code",
   "execution_count": 18,
   "id": "complex-monaco",
   "metadata": {},
   "outputs": [
    {
     "name": "stdout",
     "output_type": "stream",
     "text": [
      "Found 2000 images belonging to 2 classes.\n",
      "Found 1000 images belonging to 2 classes.\n",
      "Found 1000 images belonging to 2 classes.\n"
     ]
    }
   ],
   "source": [
    "train_features, train_labels = extract_features(train_dir, 2000)\n",
    "validation_features, validation_labels = extract_features(validation_dir, 1000)\n",
    "test_features, test_labels = extract_features(test_dir, 1000)\n"
   ]
  },
  {
   "cell_type": "code",
   "execution_count": 19,
   "id": "suffering-wrestling",
   "metadata": {},
   "outputs": [],
   "source": [
    "train_features = np.reshape(train_features, (2000, 4*4*512))\n",
    "validation_features = np.reshape(validation_features, (1000, 4*4*512))\n",
    "test_features = np.reshape(test_features, (1000, 4*4*512))"
   ]
  },
  {
   "cell_type": "code",
   "execution_count": 20,
   "id": "liberal-width",
   "metadata": {},
   "outputs": [
    {
     "data": {
      "text/plain": [
       "'C:/Users/yang/Desktop/nongzuowu/small/test'"
      ]
     },
     "execution_count": 20,
     "metadata": {},
     "output_type": "execute_result"
    }
   ],
   "source": [
    "test_dir "
   ]
  },
  {
   "cell_type": "code",
   "execution_count": 23,
   "id": "guilty-opening",
   "metadata": {},
   "outputs": [],
   "source": [
    "from keras import models\n",
    "from keras import layers\n",
    "from keras import optimizers\n",
    "from keras.preprocessing.image import ImageDataGenerator\n",
    "\n",
    "model = models.Sequential()\n",
    "model.add(conv_base)\n",
    "model.add(layers.Flatten())\n",
    "model.add(layers.Dense(256, activation='relu'))\n",
    "\n",
    "model.add(layers.Dense(1, activation='sigmoid'))"
   ]
  },
  {
   "cell_type": "code",
   "execution_count": 24,
   "id": "respiratory-humanitarian",
   "metadata": {},
   "outputs": [
    {
     "name": "stdout",
     "output_type": "stream",
     "text": [
      "Model: \"sequential_4\"\n",
      "_________________________________________________________________\n",
      "Layer (type)                 Output Shape              Param #   \n",
      "=================================================================\n",
      "vgg16 (Model)                (None, 4, 4, 512)         14714688  \n",
      "_________________________________________________________________\n",
      "flatten_4 (Flatten)          (None, 8192)              0         \n",
      "_________________________________________________________________\n",
      "dense_8 (Dense)              (None, 256)               2097408   \n",
      "_________________________________________________________________\n",
      "dense_9 (Dense)              (None, 1)                 257       \n",
      "=================================================================\n",
      "Total params: 16,812,353\n",
      "Trainable params: 16,812,353\n",
      "Non-trainable params: 0\n",
      "_________________________________________________________________\n"
     ]
    }
   ],
   "source": [
    "model.summary()"
   ]
  },
  {
   "cell_type": "code",
   "execution_count": 25,
   "id": "electoral-copper",
   "metadata": {
    "scrolled": true
   },
   "outputs": [
    {
     "name": "stdout",
     "output_type": "stream",
     "text": [
      "Found 2000 images belonging to 2 classes.\n",
      "Found 1000 images belonging to 2 classes.\n",
      "Epoch 1/100\n",
      "100/100 [==============================] - 51s 513ms/step - loss: 0.5573 - acc: 0.7155 - val_loss: 0.4540 - val_acc: 0.7920\n",
      "Epoch 2/100\n",
      "100/100 [==============================] - 51s 512ms/step - loss: 0.4002 - acc: 0.8260 - val_loss: 0.3988 - val_acc: 0.8250\n",
      "Epoch 3/100\n",
      "100/100 [==============================] - 51s 514ms/step - loss: 0.3516 - acc: 0.8485 - val_loss: 0.3453 - val_acc: 0.8540\n",
      "Epoch 4/100\n",
      "100/100 [==============================] - 51s 513ms/step - loss: 0.3193 - acc: 0.8580 - val_loss: 0.3333 - val_acc: 0.8630\n",
      "Epoch 5/100\n",
      "100/100 [==============================] - 52s 515ms/step - loss: 0.2915 - acc: 0.8710 - val_loss: 0.3106 - val_acc: 0.8750\n",
      "Epoch 6/100\n",
      "100/100 [==============================] - 52s 516ms/step - loss: 0.2736 - acc: 0.8845 - val_loss: 0.3131 - val_acc: 0.8660\n",
      "Epoch 7/100\n",
      "100/100 [==============================] - 52s 517ms/step - loss: 0.2575 - acc: 0.8980 - val_loss: 0.3042 - val_acc: 0.8700\n",
      "Epoch 8/100\n",
      "100/100 [==============================] - 52s 518ms/step - loss: 0.2493 - acc: 0.8975 - val_loss: 0.2924 - val_acc: 0.8730\n",
      "Epoch 9/100\n",
      "100/100 [==============================] - 52s 519ms/step - loss: 0.2281 - acc: 0.9055 - val_loss: 0.2910 - val_acc: 0.8820\n",
      "Epoch 10/100\n",
      "100/100 [==============================] - 52s 517ms/step - loss: 0.2229 - acc: 0.9125 - val_loss: 0.3032 - val_acc: 0.8690\n",
      "Epoch 11/100\n",
      "100/100 [==============================] - 52s 518ms/step - loss: 0.2157 - acc: 0.9115 - val_loss: 0.2818 - val_acc: 0.8810\n",
      "Epoch 12/100\n",
      "100/100 [==============================] - 52s 519ms/step - loss: 0.2115 - acc: 0.9135 - val_loss: 0.2975 - val_acc: 0.8850\n",
      "Epoch 13/100\n",
      "100/100 [==============================] - 52s 519ms/step - loss: 0.2020 - acc: 0.9140 - val_loss: 0.2889 - val_acc: 0.8840\n",
      "Epoch 14/100\n",
      "100/100 [==============================] - 52s 519ms/step - loss: 0.1790 - acc: 0.9285 - val_loss: 0.2919 - val_acc: 0.8850\n",
      "Epoch 15/100\n",
      "100/100 [==============================] - 52s 519ms/step - loss: 0.1709 - acc: 0.9340 - val_loss: 0.3022 - val_acc: 0.8860\n",
      "Epoch 16/100\n",
      "100/100 [==============================] - 52s 520ms/step - loss: 0.1685 - acc: 0.9345 - val_loss: 0.2930 - val_acc: 0.8860\n",
      "Epoch 17/100\n",
      "100/100 [==============================] - 52s 520ms/step - loss: 0.1588 - acc: 0.9415 - val_loss: 0.2967 - val_acc: 0.8910\n",
      "Epoch 18/100\n",
      "100/100 [==============================] - 52s 520ms/step - loss: 0.1712 - acc: 0.9295 - val_loss: 0.2892 - val_acc: 0.8880\n",
      "Epoch 19/100\n",
      "100/100 [==============================] - 52s 520ms/step - loss: 0.1418 - acc: 0.9450 - val_loss: 0.2874 - val_acc: 0.8930\n",
      "Epoch 20/100\n",
      "100/100 [==============================] - 52s 521ms/step - loss: 0.1494 - acc: 0.9370 - val_loss: 0.2749 - val_acc: 0.8940\n",
      "Epoch 21/100\n",
      "100/100 [==============================] - 52s 521ms/step - loss: 0.1319 - acc: 0.9515 - val_loss: 0.2816 - val_acc: 0.8960\n",
      "Epoch 22/100\n",
      "100/100 [==============================] - 52s 520ms/step - loss: 0.1397 - acc: 0.9420 - val_loss: 0.2925 - val_acc: 0.8970\n",
      "Epoch 23/100\n",
      "100/100 [==============================] - 52s 520ms/step - loss: 0.1291 - acc: 0.9455 - val_loss: 0.2884 - val_acc: 0.8890\n",
      "Epoch 24/100\n",
      "100/100 [==============================] - 52s 520ms/step - loss: 0.1260 - acc: 0.9480 - val_loss: 0.3041 - val_acc: 0.8880\n",
      "Epoch 25/100\n",
      "100/100 [==============================] - 52s 519ms/step - loss: 0.1190 - acc: 0.9495 - val_loss: 0.3376 - val_acc: 0.8910\n",
      "Epoch 26/100\n",
      "100/100 [==============================] - 52s 520ms/step - loss: 0.1165 - acc: 0.9545 - val_loss: 0.3031 - val_acc: 0.8940\n",
      "Epoch 27/100\n",
      "100/100 [==============================] - 52s 520ms/step - loss: 0.1155 - acc: 0.9530 - val_loss: 0.3348 - val_acc: 0.8910\n",
      "Epoch 28/100\n",
      "100/100 [==============================] - 52s 520ms/step - loss: 0.0948 - acc: 0.9615 - val_loss: 0.3147 - val_acc: 0.8900\n",
      "Epoch 29/100\n",
      "100/100 [==============================] - 52s 520ms/step - loss: 0.1009 - acc: 0.9645 - val_loss: 0.3860 - val_acc: 0.8890\n",
      "Epoch 30/100\n",
      "100/100 [==============================] - 52s 520ms/step - loss: 0.0909 - acc: 0.9665 - val_loss: 0.3709 - val_acc: 0.8940\n",
      "Epoch 31/100\n",
      "100/100 [==============================] - 52s 520ms/step - loss: 0.0972 - acc: 0.9605 - val_loss: 0.3039 - val_acc: 0.8950\n",
      "Epoch 32/100\n",
      "100/100 [==============================] - 52s 519ms/step - loss: 0.0803 - acc: 0.9675 - val_loss: 0.3710 - val_acc: 0.8880\n",
      "Epoch 33/100\n",
      "100/100 [==============================] - 52s 519ms/step - loss: 0.0858 - acc: 0.9695 - val_loss: 0.3217 - val_acc: 0.8960\n",
      "Epoch 34/100\n",
      "100/100 [==============================] - 52s 519ms/step - loss: 0.0813 - acc: 0.9680 - val_loss: 0.3328 - val_acc: 0.8890\n",
      "Epoch 35/100\n",
      "100/100 [==============================] - 52s 519ms/step - loss: 0.0785 - acc: 0.9700 - val_loss: 0.3044 - val_acc: 0.8960\n",
      "Epoch 36/100\n",
      "100/100 [==============================] - 52s 519ms/step - loss: 0.0797 - acc: 0.9705 - val_loss: 0.3459 - val_acc: 0.8870\n",
      "Epoch 37/100\n",
      "100/100 [==============================] - 52s 519ms/step - loss: 0.0854 - acc: 0.9680 - val_loss: 0.3379 - val_acc: 0.8910\n",
      "Epoch 38/100\n",
      "100/100 [==============================] - 52s 520ms/step - loss: 0.0740 - acc: 0.9695 - val_loss: 0.3726 - val_acc: 0.9050\n",
      "Epoch 39/100\n",
      "100/100 [==============================] - 52s 519ms/step - loss: 0.0614 - acc: 0.9755 - val_loss: 0.3803 - val_acc: 0.8900\n",
      "Epoch 40/100\n",
      "100/100 [==============================] - 52s 518ms/step - loss: 0.0688 - acc: 0.9720 - val_loss: 0.3357 - val_acc: 0.8990\n",
      "Epoch 41/100\n",
      "100/100 [==============================] - 52s 519ms/step - loss: 0.0621 - acc: 0.9750 - val_loss: 0.3826 - val_acc: 0.9030\n",
      "Epoch 42/100\n",
      "100/100 [==============================] - 52s 518ms/step - loss: 0.0588 - acc: 0.9805 - val_loss: 0.3570 - val_acc: 0.8930\n",
      "Epoch 43/100\n",
      "100/100 [==============================] - 52s 518ms/step - loss: 0.0634 - acc: 0.9735 - val_loss: 0.4088 - val_acc: 0.8800\n",
      "Epoch 44/100\n",
      "100/100 [==============================] - 52s 519ms/step - loss: 0.0547 - acc: 0.9795 - val_loss: 0.4083 - val_acc: 0.9040\n",
      "Epoch 45/100\n",
      "100/100 [==============================] - 52s 518ms/step - loss: 0.0491 - acc: 0.9830 - val_loss: 0.3875 - val_acc: 0.8930\n",
      "Epoch 46/100\n",
      "100/100 [==============================] - 52s 519ms/step - loss: 0.0495 - acc: 0.9815 - val_loss: 0.4042 - val_acc: 0.8830\n",
      "Epoch 47/100\n",
      "100/100 [==============================] - 52s 519ms/step - loss: 0.0445 - acc: 0.9820 - val_loss: 0.3772 - val_acc: 0.8990\n",
      "Epoch 48/100\n",
      "100/100 [==============================] - 52s 519ms/step - loss: 0.0493 - acc: 0.9820 - val_loss: 0.5064 - val_acc: 0.8900\n",
      "Epoch 49/100\n",
      "100/100 [==============================] - 52s 519ms/step - loss: 0.0445 - acc: 0.9860 - val_loss: 0.4274 - val_acc: 0.9070\n",
      "Epoch 50/100\n",
      "100/100 [==============================] - 52s 519ms/step - loss: 0.0414 - acc: 0.9835 - val_loss: 0.4534 - val_acc: 0.8800\n",
      "Epoch 51/100\n",
      "100/100 [==============================] - 52s 518ms/step - loss: 0.0409 - acc: 0.9845 - val_loss: 0.5168 - val_acc: 0.8870\n",
      "Epoch 52/100\n",
      "100/100 [==============================] - 52s 519ms/step - loss: 0.0317 - acc: 0.9895 - val_loss: 0.5388 - val_acc: 0.8910\n",
      "Epoch 53/100\n",
      "100/100 [==============================] - 52s 519ms/step - loss: 0.0411 - acc: 0.9845 - val_loss: 0.4178 - val_acc: 0.8970\n",
      "Epoch 54/100\n",
      "100/100 [==============================] - 52s 519ms/step - loss: 0.0387 - acc: 0.9820 - val_loss: 0.4231 - val_acc: 0.8980\n",
      "Epoch 55/100\n",
      "100/100 [==============================] - 52s 518ms/step - loss: 0.0311 - acc: 0.9885 - val_loss: 0.6446 - val_acc: 0.8670\n",
      "Epoch 56/100\n",
      "100/100 [==============================] - 52s 518ms/step - loss: 0.0415 - acc: 0.9875 - val_loss: 0.4376 - val_acc: 0.8910\n",
      "Epoch 57/100\n",
      "100/100 [==============================] - 52s 518ms/step - loss: 0.0361 - acc: 0.9855 - val_loss: 0.4138 - val_acc: 0.9040\n",
      "Epoch 58/100\n",
      "100/100 [==============================] - 52s 518ms/step - loss: 0.0354 - acc: 0.9860 - val_loss: 0.4485 - val_acc: 0.8970\n",
      "Epoch 59/100\n",
      "100/100 [==============================] - 52s 519ms/step - loss: 0.0356 - acc: 0.9875 - val_loss: 0.4302 - val_acc: 0.8980\n",
      "Epoch 60/100\n",
      "100/100 [==============================] - 52s 519ms/step - loss: 0.0334 - acc: 0.9865 - val_loss: 0.4496 - val_acc: 0.8900\n",
      "Epoch 61/100\n",
      "100/100 [==============================] - 52s 519ms/step - loss: 0.0308 - acc: 0.9885 - val_loss: 0.4716 - val_acc: 0.8980\n",
      "Epoch 62/100\n",
      "100/100 [==============================] - 52s 518ms/step - loss: 0.0277 - acc: 0.9885 - val_loss: 0.4541 - val_acc: 0.9000\n",
      "Epoch 63/100\n",
      "100/100 [==============================] - 52s 519ms/step - loss: 0.0279 - acc: 0.9900 - val_loss: 0.4320 - val_acc: 0.9000\n",
      "Epoch 64/100\n",
      "100/100 [==============================] - 52s 519ms/step - loss: 0.0327 - acc: 0.9895 - val_loss: 0.4354 - val_acc: 0.9020\n",
      "Epoch 65/100\n",
      "100/100 [==============================] - 52s 519ms/step - loss: 0.0302 - acc: 0.9885 - val_loss: 0.4770 - val_acc: 0.8920\n",
      "Epoch 66/100\n",
      "100/100 [==============================] - 52s 519ms/step - loss: 0.0219 - acc: 0.9915 - val_loss: 0.4832 - val_acc: 0.8960\n",
      "Epoch 67/100\n",
      "100/100 [==============================] - 52s 519ms/step - loss: 0.0299 - acc: 0.9865 - val_loss: 0.4632 - val_acc: 0.8980\n",
      "Epoch 68/100\n",
      "100/100 [==============================] - 52s 518ms/step - loss: 0.0250 - acc: 0.9905 - val_loss: 0.4869 - val_acc: 0.9030\n",
      "Epoch 69/100\n",
      "100/100 [==============================] - 52s 519ms/step - loss: 0.0271 - acc: 0.9890 - val_loss: 0.5155 - val_acc: 0.9030\n",
      "Epoch 70/100\n",
      "100/100 [==============================] - 52s 520ms/step - loss: 0.0237 - acc: 0.9915 - val_loss: 0.4957 - val_acc: 0.8970\n",
      "Epoch 71/100\n",
      "100/100 [==============================] - 52s 518ms/step - loss: 0.0252 - acc: 0.9895 - val_loss: 0.5016 - val_acc: 0.9020\n",
      "Epoch 72/100\n",
      "100/100 [==============================] - 52s 519ms/step - loss: 0.0251 - acc: 0.9915 - val_loss: 0.5407 - val_acc: 0.9040\n",
      "Epoch 73/100\n",
      "100/100 [==============================] - 52s 518ms/step - loss: 0.0216 - acc: 0.9930 - val_loss: 0.4882 - val_acc: 0.8960\n",
      "Epoch 74/100\n",
      "100/100 [==============================] - 52s 519ms/step - loss: 0.0244 - acc: 0.9885 - val_loss: 0.5085 - val_acc: 0.8960\n",
      "Epoch 75/100\n",
      "100/100 [==============================] - 52s 519ms/step - loss: 0.0210 - acc: 0.9890 - val_loss: 0.5065 - val_acc: 0.9010\n",
      "Epoch 76/100\n",
      "100/100 [==============================] - 52s 518ms/step - loss: 0.0251 - acc: 0.9915 - val_loss: 0.5436 - val_acc: 0.8900\n",
      "Epoch 77/100\n",
      "100/100 [==============================] - 52s 519ms/step - loss: 0.0204 - acc: 0.9945 - val_loss: 0.5093 - val_acc: 0.8990\n",
      "Epoch 78/100\n",
      "100/100 [==============================] - 52s 517ms/step - loss: 0.0212 - acc: 0.9920 - val_loss: 0.5472 - val_acc: 0.8830\n",
      "Epoch 79/100\n",
      "100/100 [==============================] - 52s 519ms/step - loss: 0.0131 - acc: 0.9950 - val_loss: 0.5889 - val_acc: 0.8950\n",
      "Epoch 80/100\n",
      "100/100 [==============================] - 52s 519ms/step - loss: 0.0173 - acc: 0.9960 - val_loss: 0.6120 - val_acc: 0.8870\n",
      "Epoch 81/100\n",
      "100/100 [==============================] - 52s 519ms/step - loss: 0.0172 - acc: 0.9955 - val_loss: 0.5689 - val_acc: 0.8900\n",
      "Epoch 82/100\n",
      "100/100 [==============================] - 52s 518ms/step - loss: 0.0192 - acc: 0.9940 - val_loss: 0.7274 - val_acc: 0.8800\n",
      "Epoch 83/100\n",
      "100/100 [==============================] - 52s 518ms/step - loss: 0.0139 - acc: 0.9960 - val_loss: 0.6009 - val_acc: 0.8960\n",
      "Epoch 84/100\n",
      "100/100 [==============================] - 52s 518ms/step - loss: 0.0205 - acc: 0.9945 - val_loss: 0.6173 - val_acc: 0.8970\n",
      "Epoch 85/100\n",
      "100/100 [==============================] - 52s 518ms/step - loss: 0.0206 - acc: 0.9920 - val_loss: 0.6139 - val_acc: 0.8950\n",
      "Epoch 86/100\n",
      "100/100 [==============================] - 52s 519ms/step - loss: 0.0151 - acc: 0.9960 - val_loss: 0.6625 - val_acc: 0.8980\n",
      "Epoch 87/100\n",
      "100/100 [==============================] - 52s 519ms/step - loss: 0.0119 - acc: 0.9960 - val_loss: 0.6649 - val_acc: 0.8990\n",
      "Epoch 88/100\n",
      "100/100 [==============================] - 52s 518ms/step - loss: 0.0182 - acc: 0.9920 - val_loss: 0.6001 - val_acc: 0.8980\n",
      "Epoch 89/100\n",
      "100/100 [==============================] - 52s 518ms/step - loss: 0.0134 - acc: 0.9940 - val_loss: 0.6430 - val_acc: 0.9000\n",
      "Epoch 90/100\n",
      "100/100 [==============================] - 52s 518ms/step - loss: 0.0114 - acc: 0.9965 - val_loss: 0.6299 - val_acc: 0.8950\n",
      "Epoch 91/100\n",
      "100/100 [==============================] - 52s 519ms/step - loss: 0.0201 - acc: 0.9940 - val_loss: 0.6530 - val_acc: 0.8970\n",
      "Epoch 92/100\n",
      "100/100 [==============================] - 52s 519ms/step - loss: 0.0151 - acc: 0.9960 - val_loss: 0.6699 - val_acc: 0.8870\n",
      "Epoch 93/100\n",
      "100/100 [==============================] - 52s 519ms/step - loss: 0.0129 - acc: 0.9940 - val_loss: 0.5812 - val_acc: 0.8920\n",
      "Epoch 94/100\n",
      "100/100 [==============================] - 52s 519ms/step - loss: 0.0109 - acc: 0.9965 - val_loss: 0.6455 - val_acc: 0.8970\n",
      "Epoch 95/100\n",
      "100/100 [==============================] - 52s 519ms/step - loss: 0.0213 - acc: 0.9925 - val_loss: 0.5843 - val_acc: 0.9010\n",
      "Epoch 96/100\n",
      "100/100 [==============================] - 52s 519ms/step - loss: 0.0182 - acc: 0.9945 - val_loss: 0.6207 - val_acc: 0.9060\n",
      "Epoch 97/100\n",
      "100/100 [==============================] - 52s 519ms/step - loss: 0.0110 - acc: 0.9965 - val_loss: 0.6166 - val_acc: 0.9020\n",
      "Epoch 98/100\n",
      "100/100 [==============================] - 52s 519ms/step - loss: 0.0209 - acc: 0.9930 - val_loss: 0.6480 - val_acc: 0.8980\n",
      "Epoch 99/100\n",
      "100/100 [==============================] - 52s 519ms/step - loss: 0.0154 - acc: 0.9960 - val_loss: 0.6753 - val_acc: 0.8930\n",
      "Epoch 100/100\n",
      "100/100 [==============================] - 52s 519ms/step - loss: 0.0094 - acc: 0.9965 - val_loss: 0.5875 - val_acc: 0.9020\n"
     ]
    }
   ],
   "source": [
    "conv_base.trainable=True\n",
    "\n",
    "\n",
    "set_trainable=False\n",
    "for layer in conv_base.layers:\n",
    "    if layer.name=='block5_conv1':\n",
    "        set_trainable=True\n",
    "    if set_trainable:\n",
    "        layer.trainable=True\n",
    "    else:\n",
    "        layer.trainable=False\n",
    "        \n",
    "from keras.preprocessing.image import ImageDataGenerator\n",
    "from keras import optimizers\n",
    "\n",
    "train_datagen = ImageDataGenerator(\n",
    "               rescale=1./255,\n",
    "               rotation_range=40,\n",
    "               width_shift_range=0.2,\n",
    "               height_shift_range=0.2,\n",
    "               shear_range=0.2,\n",
    "               horizontal_flip=0.2,\n",
    "               fill_mode='nearest')\n",
    "\n",
    "test_datagen = ImageDataGenerator(rescale=1./255)\n",
    "\n",
    "train_generator = train_datagen.flow_from_directory(\n",
    "            train_dir,\n",
    "            target_size=(150,150),\n",
    "            batch_size=20,\n",
    "            class_mode='binary')\n",
    "\n",
    "validation_genetator = test_datagen.flow_from_directory(\n",
    "            validation_dir,\n",
    "            target_size=(150,150),\n",
    "            batch_size = 20,\n",
    "            class_mode = 'binary')\n",
    "\n",
    "model.compile(loss='binary_crossentropy',\n",
    "              optimizer=optimizers.RMSprop(lr=1e-5),\n",
    "              metrics=['acc'])\n",
    "\n",
    "history = model.fit_generator(train_generator, \n",
    "                              steps_per_epoch=100, \n",
    "                              epochs=100,\n",
    "                              validation_data=validation_genetator,\n",
    "                              validation_steps=50,\n",
    "                              )"
   ]
  },
  {
   "cell_type": "code",
   "execution_count": 26,
   "id": "micro-nigeria",
   "metadata": {},
   "outputs": [],
   "source": [
    "model.save(\"hulianwang+.h5\")"
   ]
  },
  {
   "cell_type": "code",
   "execution_count": 28,
   "id": "german-college",
   "metadata": {},
   "outputs": [
    {
     "data": {
      "text/plain": [
       "<matplotlib.legend.Legend at 0x1f7d14c4400>"
      ]
     },
     "execution_count": 28,
     "metadata": {},
     "output_type": "execute_result"
    },
    {
     "data": {
      "image/png": "[encoded data removed]",
      "text/plain": [
       "<Figure size 432x288 with 1 Axes>"
      ]
     },
     "metadata": {
      "needs_background": "light"
     },
     "output_type": "display_data"
    },
    {
     "data": {
      "image/png": "[encoded data removed]",
      "text/plain": [
       "<Figure size 432x288 with 1 Axes>"
      ]
     },
     "metadata": {
      "needs_background": "light"
     },
     "output_type": "display_data"
    }
   ],
   "source": [
    "import matplotlib.pyplot as plt\n",
    "\n",
    "acc = history.history['acc']\n",
    "val_acc = history.history['val_acc']\n",
    "\n",
    "loss = history.history['loss']\n",
    "val_loss = history.history['val_loss']\n",
    "\n",
    "epochs = range(1, len(acc)+1)\n",
    "\n",
    "plt.plot(epochs, acc, 'bo', label='Training acc')\n",
    "plt.plot(epochs, val_acc, 'b', label='Validation acc')\n",
    "plt.title('Training and validation accuracy')\n",
    "plt.legend()\n",
    "\n",
    "plt.figure()\n",
    "plt.plot(epochs, loss, 'bo', label='Training loss')\n",
    "plt.plot(epochs, val_loss, 'b', label='Validation loss')\n",
    "plt.title('Training and validation accuracy')\n",
    "plt.legend()\n"
   ]
  },
  {
   "cell_type": "code",
   "execution_count": 30,
   "id": "frozen-nothing",
   "metadata": {},
   "outputs": [
    {
     "name": "stdout",
     "output_type": "stream",
     "text": [
      "Found 1000 images belonging to 2 classes.\n",
      "WARNING:tensorflow:From <ipython-input-30-f9d06a0dbae3>:8: Model.evaluate_generator (from tensorflow.python.keras.engine.training) is deprecated and will be removed in a future version.\n",
      "Instructions for updating:\n",
      "Please use Model.evaluate, which supports generators.\n"
     ]
    }
   ],
   "source": [
    "test_generator=test_datagen.flow_from_directory(\n",
    "                test_dir,\n",
    "                target_size=(150, 150),\n",
    "                batch_size=20,\n",
    "                class_mode='binary')\n",
    "\n",
    "\n",
    "test_loss, test_acc=model.evaluate_generator(test_generator, steps=50)"
   ]
  },
  {
   "cell_type": "code",
   "execution_count": 31,
   "id": "analyzed-sentence",
   "metadata": {},
   "outputs": [
    {
     "data": {
      "text/plain": [
       "0.8970000147819519"
      ]
     },
     "execution_count": 31,
     "metadata": {},
     "output_type": "execute_result"
    }
   ],
   "source": [
    "test_acc"
   ]
  }
 ],
 "metadata": {
  "kernelspec": {
   "display_name": "Python 3",
   "language": "python",
   "name": "python3"
  },
  "language_info": {
   "codemirror_mode": {
    "name": "ipython",
    "version": 3
   },
   "file_extension": ".py",
   "mimetype": "text/x-python",
   "name": "python",
   "nbconvert_exporter": "python",
   "pygments_lexer": "ipython3",
   "version": "3.6.12"
  },
  "toc": {
   "base_numbering": 1,
   "nav_menu": {},
   "number_sections": true,
   "sideBar": true,
   "skip_h1_title": false,
   "title_cell": "Table of Contents",
   "title_sidebar": "Contents",
   "toc_cell": false,
   "toc_position": {},
   "toc_section_display": true,
   "toc_window_display": false
  }
 },
 "nbformat": 4,
 "nbformat_minor": 5
}
