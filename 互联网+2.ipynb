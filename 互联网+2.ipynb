{
 "cells": [
  {
   "cell_type": "code",
   "execution_count": 1,
   "id": "french-horror",
   "metadata": {},
   "outputs": [],
   "source": [
    "import keras"
   ]
  },
  {
   "cell_type": "code",
   "execution_count": 2,
   "id": "civic-assembly",
   "metadata": {},
   "outputs": [],
   "source": [
    "from keras.applications import VGG16\n",
    "\n",
    "conv_base = VGG16(weights='imagenet',\n",
    "                  include_top=False,\n",
    "                  input_shape=(150,150,3))"
   ]
  },
  {
   "cell_type": "code",
   "execution_count": 3,
   "id": "constitutional-stylus",
   "metadata": {},
   "outputs": [],
   "source": [
    "import os\n",
    "import numpy as np\n",
    "from keras.preprocessing.image import ImageDataGenerator\n",
    "\n",
    "base_dir = \"C:/Users/yang/Desktop/nongzuowu/small/\"\n",
    "\n",
    "train_dir = os.path.join(base_dir, 'train')\n",
    "validation_dir = os.path.join(base_dir, 'validation')\n",
    "test_dir = os.path.join(base_dir,'test')\n",
    "\n",
    "datagen = ImageDataGenerator(rescale=1./255)\n",
    "batch_size = 20\n",
    "\n",
    "def extract_features(directory, sample_count):\n",
    "    features = np.zeros(shape=(sample_count, 4, 4, 512))\n",
    "    labels = np.zeros(shape=(sample_count))\n",
    "    generator = datagen.flow_from_directory(\n",
    "        directory,\n",
    "        target_size=(150, 150),\n",
    "        batch_size=batch_size,\n",
    "        class_mode='binary')\n",
    "    \n",
    "    i = 0\n",
    "    for inputs_batch, labels_batch in generator:\n",
    "        features_batch = conv_base.predict(inputs_batch)\n",
    "        features[i*batch_size:(i+1)*batch_size] = features_batch\n",
    "        labels[i*batch_size:(i+1)*batch_size] = labels_batch\n",
    "        i+=1\n",
    "        if i * batch_size>=sample_count:\n",
    "            break\n",
    "    return features, labels"
   ]
  },
  {
   "cell_type": "code",
   "execution_count": 4,
   "id": "completed-miniature",
   "metadata": {},
   "outputs": [
    {
     "name": "stdout",
     "output_type": "stream",
     "text": [
      "Found 2000 images belonging to 2 classes.\n",
      "Found 1000 images belonging to 2 classes.\n",
      "Found 1000 images belonging to 2 classes.\n"
     ]
    }
   ],
   "source": [
    "train_features, train_labels = extract_features(train_dir, 2000)\n",
    "validation_features, validation_labels = extract_features(validation_dir, 1000)\n",
    "test_features, test_labels = extract_features(test_dir, 1000)"
   ]
  },
  {
   "cell_type": "code",
   "execution_count": 5,
   "id": "shaped-swiss",
   "metadata": {},
   "outputs": [],
   "source": [
    "from keras import models\n",
    "from keras import layers\n",
    "\n",
    "model = models.Sequential()\n",
    "model.add(conv_base)\n",
    "model.add(layers.Flatten())\n",
    "model.add(layers.Dense(256, activation='relu'))\n",
    "model.add(layers.Dense(1, activation='sigmoid'))"
   ]
  },
  {
   "cell_type": "code",
   "execution_count": 7,
   "id": "written-emergency",
   "metadata": {},
   "outputs": [],
   "source": [
    "conv_base.trainable = False"
   ]
  },
  {
   "cell_type": "code",
   "execution_count": null,
   "id": "grateful-courage",
   "metadata": {},
   "outputs": [
    {
     "name": "stdout",
     "output_type": "stream",
     "text": [
      "Found 2000 images belonging to 2 classes.\n",
      "Found 1000 images belonging to 2 classes.\n",
      "WARNING:tensorflow:From <ipython-input-9-a22bb3564e39>:35: Model.fit_generator (from tensorflow.python.keras.engine.training) is deprecated and will be removed in a future version.\n",
      "Instructions for updating:\n",
      "Please use Model.fit, which supports generators.\n",
      "Epoch 1/30\n",
      "100/100 [==============================] - 44s 440ms/step - loss: 0.6110 - acc: 0.6865 - val_loss: 0.5327 - val_acc: 0.7710\n",
      "Epoch 2/30\n",
      "100/100 [==============================] - 44s 441ms/step - loss: 0.4964 - acc: 0.7855 - val_loss: 0.4740 - val_acc: 0.7940\n",
      "Epoch 3/30\n",
      "100/100 [==============================] - 44s 440ms/step - loss: 0.4501 - acc: 0.8085 - val_loss: 0.4494 - val_acc: 0.8020\n",
      "Epoch 4/30\n",
      "100/100 [==============================] - 44s 441ms/step - loss: 0.4299 - acc: 0.8135 - val_loss: 0.4309 - val_acc: 0.8030\n",
      "Epoch 5/30\n",
      "100/100 [==============================] - 44s 443ms/step - loss: 0.4153 - acc: 0.8155 - val_loss: 0.4160 - val_acc: 0.8110\n",
      "Epoch 6/30\n",
      "100/100 [==============================] - 44s 444ms/step - loss: 0.4045 - acc: 0.8200 - val_loss: 0.4089 - val_acc: 0.8200\n",
      "Epoch 7/30\n",
      "100/100 [==============================] - 44s 444ms/step - loss: 0.3936 - acc: 0.8250 - val_loss: 0.3990 - val_acc: 0.8300\n",
      "Epoch 8/30\n",
      "100/100 [==============================] - 44s 444ms/step - loss: 0.3789 - acc: 0.8395 - val_loss: 0.3933 - val_acc: 0.8350\n",
      "Epoch 9/30\n",
      "100/100 [==============================] - 44s 443ms/step - loss: 0.3716 - acc: 0.8355 - val_loss: 0.4022 - val_acc: 0.8360\n",
      "Epoch 10/30\n",
      "100/100 [==============================] - 45s 445ms/step - loss: 0.3771 - acc: 0.8440 - val_loss: 0.3809 - val_acc: 0.8320\n",
      "Epoch 11/30\n",
      "100/100 [==============================] - 44s 445ms/step - loss: 0.3619 - acc: 0.8420 - val_loss: 0.3796 - val_acc: 0.8400\n",
      "Epoch 12/30\n",
      "100/100 [==============================] - 45s 446ms/step - loss: 0.3489 - acc: 0.8515 - val_loss: 0.3705 - val_acc: 0.8460\n",
      "Epoch 13/30\n",
      "100/100 [==============================] - 45s 446ms/step - loss: 0.3465 - acc: 0.8480 - val_loss: 0.3657 - val_acc: 0.8370\n",
      "Epoch 14/30\n",
      "100/100 [==============================] - 45s 445ms/step - loss: 0.3426 - acc: 0.8480 - val_loss: 0.3625 - val_acc: 0.8420\n",
      "Epoch 15/30\n",
      "100/100 [==============================] - 45s 447ms/step - loss: 0.3486 - acc: 0.8470 - val_loss: 0.3731 - val_acc: 0.8310\n",
      "Epoch 16/30\n",
      "100/100 [==============================] - 45s 446ms/step - loss: 0.3479 - acc: 0.8530 - val_loss: 0.3811 - val_acc: 0.8420\n",
      "Epoch 17/30\n",
      "100/100 [==============================] - 45s 447ms/step - loss: 0.3248 - acc: 0.8620 - val_loss: 0.3670 - val_acc: 0.8270\n",
      "Epoch 18/30\n",
      "100/100 [==============================] - 45s 447ms/step - loss: 0.3334 - acc: 0.8540 - val_loss: 0.3593 - val_acc: 0.8550\n",
      "Epoch 19/30\n",
      "100/100 [==============================] - 45s 447ms/step - loss: 0.3288 - acc: 0.8590 - val_loss: 0.3508 - val_acc: 0.8390\n",
      "Epoch 20/30\n",
      "100/100 [==============================] - 45s 447ms/step - loss: 0.3305 - acc: 0.8585 - val_loss: 0.3512 - val_acc: 0.8440\n",
      "Epoch 21/30\n",
      "100/100 [==============================] - 45s 447ms/step - loss: 0.3261 - acc: 0.8600 - val_loss: 0.3453 - val_acc: 0.8550\n",
      "Epoch 22/30\n",
      "100/100 [==============================] - 45s 447ms/step - loss: 0.3199 - acc: 0.8600 - val_loss: 0.3416 - val_acc: 0.8450\n",
      "Epoch 23/30\n",
      "100/100 [==============================] - 45s 448ms/step - loss: 0.3144 - acc: 0.8685 - val_loss: 0.3427 - val_acc: 0.8450\n",
      "Epoch 24/30\n",
      "100/100 [==============================] - 45s 448ms/step - loss: 0.3090 - acc: 0.8675 - val_loss: 0.3434 - val_acc: 0.8530\n",
      "Epoch 25/30\n",
      "100/100 [==============================] - 45s 447ms/step - loss: 0.3013 - acc: 0.8725 - val_loss: 0.3423 - val_acc: 0.8500\n",
      "Epoch 26/30\n",
      "100/100 [==============================] - 45s 447ms/step - loss: 0.3119 - acc: 0.8730 - val_loss: 0.3396 - val_acc: 0.8510\n",
      "Epoch 27/30\n",
      "100/100 [==============================] - 45s 447ms/step - loss: 0.3089 - acc: 0.8685 - val_loss: 0.3364 - val_acc: 0.8520\n",
      "Epoch 28/30\n",
      "100/100 [==============================] - 45s 446ms/step - loss: 0.3057 - acc: 0.8680 - val_loss: 0.3371 - val_acc: 0.8490\n",
      "Epoch 29/30\n",
      "100/100 [==============================] - 45s 447ms/step - loss: 0.3086 - acc: 0.8630 - val_loss: 0.3350 - val_acc: 0.8500\n",
      "Epoch 30/30\n",
      "100/100 [==============================] - ETA: 0s - loss: 0.2924 - acc: 0.8815"
     ]
    }
   ],
   "source": [
    "from keras.preprocessing.image import ImageDataGenerator\n",
    "from keras import optimizers\n",
    "\n",
    "train_datagen = ImageDataGenerator(\n",
    "               rescale=1./255,\n",
    "               rotation_range=40,\n",
    "               width_shift_range=0.2,\n",
    "               height_shift_range=0.2,\n",
    "               shear_range=0.2,\n",
    "               horizontal_flip=0.2,\n",
    "               fill_mode='nearest')\n",
    "\n",
    "test_datagen = ImageDataGenerator(rescale=1./255)\n",
    "\n",
    "train_generator = train_datagen.flow_from_directory(\n",
    "            train_dir,\n",
    "            target_size=(150,150),\n",
    "            batch_size=20,\n",
    "            class_mode='binary')\n",
    "\n",
    "validation_genetator = test_datagen.flow_from_directory(\n",
    "            validation_dir,\n",
    "            target_size=(150,150),\n",
    "            batch_size = 20,\n",
    "            class_mode = 'binary')\n",
    "\n",
    "model.compile(loss='binary_crossentropy',\n",
    "              optimizer=optimizers.RMSprop(lr=2e-5),\n",
    "              metrics=['acc'])\n",
    "\n",
    "history = model.fit_generator(train_generator, \n",
    "                              steps_per_epoch=100, \n",
    "                              epochs=30,\n",
    "                              validation_data=validation_genetator,\n",
    "                              validation_steps=50,\n",
    "                              )"
   ]
  },
  {
   "cell_type": "code",
   "execution_count": null,
   "id": "solar-cyprus",
   "metadata": {},
   "outputs": [],
   "source": []
  }
 ],
 "metadata": {
  "kernelspec": {
   "display_name": "Python 3",
   "language": "python",
   "name": "python3"
  },
  "language_info": {
   "codemirror_mode": {
    "name": "ipython",
    "version": 3
   },
   "file_extension": ".py",
   "mimetype": "text/x-python",
   "name": "python",
   "nbconvert_exporter": "python",
   "pygments_lexer": "ipython3",
   "version": "3.6.12"
  },
  "toc": {
   "base_numbering": 1,
   "nav_menu": {},
   "number_sections": true,
   "sideBar": true,
   "skip_h1_title": false,
   "title_cell": "Table of Contents",
   "title_sidebar": "Contents",
   "toc_cell": false,
   "toc_position": {},
   "toc_section_display": true,
   "toc_window_display": false
  }
 },
 "nbformat": 4,
 "nbformat_minor": 5
}
